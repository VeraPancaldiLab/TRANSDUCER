{
 "cells": [
  {
   "cell_type": "code",
   "execution_count": 2,
   "metadata": {},
   "outputs": [],
   "source": [
    "# imports\n",
    "import os\n",
    "import gzip\n",
    "from Bio import SeqIO\n",
    "from Bio.SeqUtils import GC"
   ]
  },
  {
   "cell_type": "code",
   "execution_count": 7,
   "metadata": {},
   "outputs": [],
   "source": [
    "file50 = 'PDAC221Tkf1_fwd_P50.fq'\n",
    "file60 = 'PDAC221Tkf1_fwd_P60.fq'\n",
    "\n",
    "# remove files in case they already exist so it dont get appended\n",
    "os.remove(file50)\n",
    "os.remove(file60)\n",
    "\n",
    "# read fastq\n",
    "with gzip.open('PDACtryGC.fq.gz', \"rt\") as handle:\n",
    "    for record in SeqIO.parse(handle, \"fastq\"):\n",
    "        readGC=GC(record.seq)\n",
    "        \n",
    "        if 46 < readGC < 51:\n",
    "            with open(file50, 'a') as the_file:\n",
    "                the_file.write(record.format(\"fastq\"))\n",
    "    \n",
    "        elif 54 < readGC < 63:\n",
    "            with open(file60, 'a') as the_file:\n",
    "                the_file.write(record.format(\"fastq\"))"
   ]
  }
 ],
 "metadata": {
  "kernelspec": {
   "display_name": "Python 3",
   "language": "python",
   "name": "python3"
  },
  "language_info": {
   "codemirror_mode": {
    "name": "ipython",
    "version": 3
   },
   "file_extension": ".py",
   "mimetype": "text/x-python",
   "name": "python",
   "nbconvert_exporter": "python",
   "pygments_lexer": "ipython3",
   "version": "3.8.3"
  }
 },
 "nbformat": 4,
 "nbformat_minor": 4
}
