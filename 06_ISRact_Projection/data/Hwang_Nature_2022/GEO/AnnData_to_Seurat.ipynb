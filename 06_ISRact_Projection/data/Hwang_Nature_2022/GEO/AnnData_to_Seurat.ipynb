{
 "cells": [
  {
   "cell_type": "code",
   "execution_count": 9,
   "id": "2bd8e3a3-542b-48b6-af9c-5afe4f77532a",
   "metadata": {},
   "outputs": [],
   "source": [
    "import matplotlib\n",
    "import pandas as pd\n",
    "import scanpy as sc\n",
    "from scipy import  io"
   ]
  },
  {
   "cell_type": "code",
   "execution_count": 2,
   "id": "ef012653-7ef7-4e16-b7e7-d0892195c2cc",
   "metadata": {},
   "outputs": [],
   "source": [
    "adata = sc.read_h5ad('GSE202051_totaldata-final-toshare.h5ad')"
   ]
  },
  {
   "cell_type": "code",
   "execution_count": 4,
   "id": "253d32eb-97ab-4e6d-a277-7db8a00c0997",
   "metadata": {},
   "outputs": [],
   "source": [
    "adata_raw = adata.raw.to_adata()"
   ]
  },
  {
   "cell_type": "code",
   "execution_count": 7,
   "id": "35f7518b-3c19-469d-aaf6-32b5187b1f75",
   "metadata": {},
   "outputs": [],
   "source": [
    "with open('barcodes.tsv', 'w') as f:\n",
    "    for item in adata.obs_names:\n",
    "        f.write(item + '\\n')"
   ]
  },
  {
   "cell_type": "code",
   "execution_count": 8,
   "id": "1e702287-db0f-41ca-a6f0-35c77d89cda8",
   "metadata": {},
   "outputs": [],
   "source": [
    "with open('features.tsv', 'w') as f:\n",
    "    for item in ['\\t'.join([x,x, 'Gene Expression']) for x in adata.var_names]:\n",
    "        f.write(item + '\\n')"
   ]
  },
  {
   "cell_type": "code",
   "execution_count": 9,
   "id": "780f2eee-febc-42d7-99b5-fd58fb31e027",
   "metadata": {},
   "outputs": [],
   "source": [
    "io.mmwrite('matrix', adata.X.T)"
   ]
  },
  {
   "cell_type": "code",
   "execution_count": 12,
   "id": "dfb7e007-fad3-4fc1-b85e-cc87e7f01358",
   "metadata": {},
   "outputs": [],
   "source": [
    "adata.obs.to_csv('metadata.tsv', sep= '\\t')"
   ]
  },
  {
   "cell_type": "code",
   "execution_count": 15,
   "id": "b3ff90d1-c8c9-4066-946d-50213dde5fab",
   "metadata": {},
   "outputs": [
    {
     "name": "stdout",
     "output_type": "stream",
     "text": [
      "obsm/X_cnv.tsv\n",
      "obsm/X_cnv_pca.tsv\n",
      "obsm/X_cnv_umap.tsv\n",
      "obsm/X_harmony.tsv\n",
      "obsm/X_pca.tsv\n",
      "obsm/X_umap.tsv\n"
     ]
    }
   ],
   "source": [
    "for item in adata.obsm:\n",
    "    print(\"\".join([\"obsm/\",item, \".tsv\"]))\n",
    "    pd.DataFrame(adata.obsm[item], index = adata.obs_names).to_csv(\"\".join([\"obsm/\",item, \".tsv\"]), sep='\\t')"
   ]
  },
  {
   "cell_type": "code",
   "execution_count": 8,
   "id": "fe6714b2-1da2-414f-9b75-43235c1cecbb",
   "metadata": {},
   "outputs": [
    {
     "data": {
      "text/plain": [
       "Index(['AGAACCTTCTGGGCAC-1-0', 'AAAGGTATCTCTCTAA-1-0', 'TGAATGCGTCGCTCGA-1-0',\n",
       "       'CGTGCTTTCACTGATG-1-0', 'TTGGGCGAGTTGCTCA-1-0', 'CTGCCTAGTTCCTAAG-1-0',\n",
       "       'ACCTGAATCGCTTACC-1-0', 'GCGTTTCAGCATTTGC-1-0', 'CAGCAATAGTAATTGG-1-0',\n",
       "       'GCATCTCTCAAACGTC-1-0',\n",
       "       ...\n",
       "       'TGTCCCATCAAGTGGG-1-45', 'ATCCACCGTTAAGTCC-1-45',\n",
       "       'TATTGCTGTAACATGA-1-45', 'GTCGTAAGTGTATACC-1-45',\n",
       "       'CCCTTAGTCAGTGATC-1-45', 'CTGTAGAAGATCGACG-1-45',\n",
       "       'GTGGAAGTCAGAGTTC-1-45', 'CTAACCCAGCTCGAAG-1-45',\n",
       "       'CTCCTTTCACAATGAA-1-45', 'TCGTGCTAGCGATGCA-1-45'],\n",
       "      dtype='object', length=224988)"
      ]
     },
     "execution_count": 8,
     "metadata": {},
     "output_type": "execute_result"
    }
   ],
   "source": [
    "adata.oobs_names"
   ]
  }
 ],
 "metadata": {
  "kernelspec": {
   "display_name": "Python 3",
   "language": "python",
   "name": "python3"
  },
  "language_info": {
   "codemirror_mode": {
    "name": "ipython",
    "version": 3
   },
   "file_extension": ".py",
   "mimetype": "text/x-python",
   "name": "python",
   "nbconvert_exporter": "python",
   "pygments_lexer": "ipython3",
   "version": "3.8.8"
  }
 },
 "nbformat": 4,
 "nbformat_minor": 5
}
